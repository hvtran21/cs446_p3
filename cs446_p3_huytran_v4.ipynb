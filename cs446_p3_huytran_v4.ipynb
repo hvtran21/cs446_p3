{
 "cells": [
  {
   "cell_type": "markdown",
   "metadata": {
    "id": "lq1WZzCeLqpK"
   },
   "source": [
    "Your name: Huy Tran\n",
    "\n",
    "Your student ID number: 33259590\n",
    "\n",
    "Shared link to this notebook: https://github.com/hvtran21/cs446_p3"
   ]
  },
  {
   "cell_type": "markdown",
   "metadata": {
    "id": "zhlgD8H1Ll5U"
   },
   "source": [
    "# Programming Assignment 3 (P3) for COMPSCI 446, Search Engines\n"
   ]
  },
  {
   "cell_type": "markdown",
   "metadata": {
    "id": "t9_kEMGent_J"
   },
   "source": [
    "This project is focused on indexing and query processing using a small collection of documents. Before starting, be sure to review Chapter 5 in the textbook, especially section 5.3, which covers inverted indexes, and section 5.6 (with an emphasis on 5.6.1), which discusses index construction. For the query processing part, sections 5.7.1 and 5.7.2, as well as sections 7.1.1, 7.2.2, and 7.3.1, will be particularly useful.\n",
    "\n",
    "Your task is to implement `run_queries(document_fpath, query_fpath, trecrun_file)` method. This method will accomplish 3 things:\n",
    "* [Document Parsing](#document-parsing) : Parse the collection of documents and create an inverted index.\n",
    "* [Query Processing](#query-processing) : Read and process queries from `query_fpath`.\n",
    "* [TREC Run Formatting](#output-formatting) : Output the results in TREC run format (as in P2) to `trecrun_file`.\n",
    "\n",
    "Only the implementation of `run_queries(document_fpath, query_fpath, trecrun_file)` will be graded. However, we will provide a skeleton of helper methods you can implement for this project. Call any helper functions from run_queries. Try to initialize any variables you need in run_queries (and do not use global variables). We will not test the provided helper functions or even verify that they exist. (Though please be certain that those code cells run, even if you do that by making an empty function.)"
   ]
  },
  {
   "cell_type": "markdown",
   "metadata": {
    "id": "uwNGCWtxoIXd"
   },
   "source": [
    "Here are a list of provided files that will be loaded into your Google Drive for use in this notebook:\n",
    "\n",
    "* _sciam.json.gz_, a compressed document collection comprising of a number of stories from issues of Scientific American from the 1800s. They are all from Project Gutenberg’s collection. The “books” were automatically broken into stories and each story is a “document” for purposes of this project. A URL was also automatically included that takes you to a nice version of the story if you’re interested in looking at it (or its images). These stories have been partially vetted for objectionable material (sensibilities in the 1800s were different than they are today); if you find something that we overlooked, please let us know.\n",
    "\n",
    "* _P3train.tsv_, a file containing a list of sample queries to run as input to your program for testing.\n",
    "\n",
    "* _P3train.trecrun_ is a file containing a sample, trecrun-formatted output for _P3train.tsv_.\n",
    "\n",
    "* _P3eval.tsv_ is the file containing more queries that P3 would be evaluated on."
   ]
  },
  {
   "cell_type": "markdown",
   "metadata": {
    "id": "iwtOQuDMHIOy"
   },
   "source": [
    "##0. Prerequisites"
   ]
  },
  {
   "cell_type": "code",
   "execution_count": 30,
   "metadata": {
    "id": "hWAYQYm7AiFQ"
   },
   "outputs": [],
   "source": [
    "version = 4 # DO NOT MODIFY. If notebook does not match with autograder version, many tests are likely to fail!!"
   ]
  },
  {
   "cell_type": "markdown",
   "metadata": {
    "id": "T-rdywfVn8Zd"
   },
   "source": [
    "###Link your Google Drive\n",
    "Execute the following to connect to Google Drive (you will be prompted repeatedly for access to your Google Drive; please give it permission) and download copies of the sample files listed above. You should not need to make any modifications to the code, though if you want to use a slightly different path in Google Drive, you can modify the appropriate drive_path value. (The autograder will not use your Google Drive and will fail if you insert code that explicitly uses the Google Drive.)"
   ]
  },
  {
   "cell_type": "code",
   "execution_count": 31,
   "metadata": {
    "id": "NOrBJqzHcaul"
   },
   "outputs": [],
   "source": [
    "# Import packages one"
   ]
  },
  {
   "cell_type": "code",
   "execution_count": 32,
   "metadata": {
    "colab": {
     "base_uri": "https://localhost:8080/"
    },
    "executionInfo": {
     "elapsed": 15499,
     "status": "ok",
     "timestamp": 1733688056372,
     "user": {
      "displayName": "Huy Tran",
      "userId": "16988764098922800274"
     },
     "user_tz": 300
    },
    "id": "0RQVcpdzFG08",
    "outputId": "5c5ceed0-bbf2-4669-a858-6efb292c5b51"
   },
   "outputs": [],
   "source": [
    "import os\n",
    "import string\n",
    "import gzip\n",
    "import re\n",
    "\n",
    "from collections import Counter\n",
    "\n",
    "try:\n",
    "    from google.colab import drive\n",
    "    in_colab = True\n",
    "except ImportError:\n",
    "    in_colab = False\n",
    "\n",
    "\n",
    "# You are more than welcome to code some helper functions.\n",
    "# But do note that we are only grading functions that are coded in the template files.\n",
    "\n",
    "\n",
    "# Connect to Google Drive and download copies of the sample files listed above.\n",
    "# Please allow the access to your Google Drive or the following dataset loader will fail.\n",
    "# (The autograder will not use your Google Drive.)\n",
    "if in_colab:\n",
    "  drive.mount(\"/content/drive/\") ## DO NOT MODIFY THIS LINE\n",
    "  data_path = \"/content/drive/MyDrive/CS 446 Search Engines/p3\" ## CHANGE TO YOUR OWN FOLDER ON GOOGLE DRIVE\n",
    "else:\n",
    "  data_path = \"./data/\"  ## DO NOT MODIFY THIS LINE. CHANGING THIS LINE WOULD RESULT IN FAIL OF AUTOGRADER TESTS\n",
    "\n",
    "assert os.path.exists(data_path), \"Change data_path to a valid and existing file path in your google drive!\""
   ]
  },
  {
   "cell_type": "markdown",
   "metadata": {
    "id": "ZWKbjCm2FiXZ"
   },
   "source": [
    "### Load the provided files"
   ]
  },
  {
   "cell_type": "code",
   "execution_count": 33,
   "metadata": {
    "colab": {
     "base_uri": "https://localhost:8080/"
    },
    "executionInfo": {
     "elapsed": 3305,
     "status": "ok",
     "timestamp": 1733688067094,
     "user": {
      "displayName": "Huy Tran",
      "userId": "16988764098922800274"
     },
     "user_tz": 300
    },
    "id": "WDnungmrkPsj",
    "outputId": "b7a55951-f971-472c-b02e-e9bf328a8959"
   },
   "outputs": [
    {
     "name": "stdout",
     "output_type": "stream",
     "text": [
      "File \"sciam.json.gz\" already exists, not downloading.\n",
      "File \"P3train.trecrun\" already exists, not downloading.\n",
      "File \"P3train.tsv\" already exists, not downloading.\n",
      "File \"P3eval.tsv\" already exists, not downloading.\n"
     ]
    }
   ],
   "source": [
    "import urllib.request\n",
    "import gzip\n",
    "import json\n",
    "import sys\n",
    "import os\n",
    "from pathlib import Path\n",
    "\n",
    "def load_file(file_path: str, gz_zip: bool = True, is_json: bool=False) -> list[str]:\n",
    "    \"\"\"\n",
    "    Load strings from the text or gzip file. Remember to strip newline if necessary!\n",
    "\n",
    "    Args:\n",
    "        file_path: the location of file we want to analyze on.\n",
    "        gz_zip: true if the file is gzipped, false otherwise\n",
    "\n",
    "    Returns: an array of string loaded from the text or gzip file.\n",
    "    \"\"\"\n",
    "    webloc = \"https://cs.umass.edu/~allan/cs446/\"\n",
    "\n",
    "\n",
    "    data_info = Path(data_path)\n",
    "    if not data_info.exists() or not data_info.is_dir():\n",
    "      print(f\"Google folder \\\"{data_path}\\\" is not present or not a folder. Nothing will work from here.\")\n",
    "      return []\n",
    "\n",
    "    local_google_drive_path = os.path.join(data_path,file_path)\n",
    "    local_file = Path(local_google_drive_path)\n",
    "    if local_file.is_file():\n",
    "        print(f\"File \\\"{file_path}\\\" already exists, not downloading.\")\n",
    "    else:\n",
    "        print(f\"Cannot find \\\"{file_path}\\\" so downloading it\")\n",
    "        urllib.request.urlretrieve(webloc + file_path, local_google_drive_path)\n",
    "        print(\"Done\")\n",
    "\n",
    "    results = []\n",
    "    if not gz_zip:\n",
    "        f = open(local_google_drive_path, \"r\", encoding=\"utf-8\")\n",
    "\n",
    "    else:\n",
    "        # Read compressed file (opened in text mode since that's what we use)\n",
    "        f = gzip.open(local_google_drive_path, \"rt\", encoding=\"utf-8\")\n",
    "\n",
    "    # Pull in the contents of the file and return it\n",
    "    if is_json:\n",
    "      results = json.load(f)['corpus']\n",
    "    elif '.tsv' in file_path:\n",
    "      results = [line.strip(\"\\n\").split('\\t') for line in f.readlines() if line]\n",
    "    elif '.trecrun' in file_path:\n",
    "      results = [re.split(r'[ \\t]+', line.strip(\"\\n\")) for line in f.readlines() if line]\n",
    "    if f:\n",
    "      f.close()\n",
    "\n",
    "    return results\n",
    "\n",
    "\n",
    "# path to documents and stopwords\n",
    "documents_path = \"sciam.json.gz\" # path to gzip file that contains documents\n",
    "P3_train_path = \"P3train.tsv\" # Path to p1 train dataset\n",
    "P3_trecrun_path = \"P3train.trecrun\"  # path to the output trecrun\n",
    "P3_eval_path = \"P3eval.tsv\"  # path to the file that contains queries for P3 evaluation\n",
    "\n",
    "documents = load_file(documents_path, is_json=True)\n",
    "trecrun  = load_file(P3_trecrun_path, gz_zip = False)\n",
    "queries  = load_file(P3_train_path, gz_zip = False)\n",
    "eval_queries = load_file(P3_eval_path, gz_zip = False)"
   ]
  },
  {
   "cell_type": "markdown",
   "metadata": {
    "id": "gaMl5vRzIp8i"
   },
   "source": [
    "## Dataset\n",
    "\n",
    "The dataset is stories from Scientific American issues from the 1800s. The data has been tokenized and stemmed (not stopped) and made available as sciam.json.gz. (You will probably want to look at it uncompressed, but be sure that your code handles the compressed version only.) The stories were extracted from 25 issues of the magazine. If you're curious, you can look at the original magazine issues at https://www.gutenberg.org/ebooks/bookshelf/256.\n",
    "\n",
    "This dataset has been preprocessed by stripping out punctuation and applying the Krovetz Stemmer (not Porter). No stopwords have been removed. Note that this means that the tokenization and stemming steps (as in P1) have been performed and, because stemming has already happened, that _you will not use a stopword list_. (Plus, of course, this will allow you to support queries with conjunction words -- e.g., the three words “clumps and keys” in order!)\n",
    "\n",
    "An example story is below. The text element is a actually single line in the input file but is presented wrapped here for ease of presentation.  The tokens are always separated by space characters, meaning that you will essentially be using a space tokenizer!\n",
    "\n",
    "```\n",
    "{  \"article\" : \"8952\",\n",
    "   \"storyID\" : \"8952-id_18\",\n",
    "   \"storynum\" : \"id_18\",\n",
    "   \"url\" : \"https://www.gutenberg.org/cache/epub/8952/pg8952-images.html#id_18\",\n",
    "   \"text\" : \"invention patent in england by americacompile from the journal of\n",
    "   the commissioner of patentprovisional protection for six month3 201 sewing\n",
    "   machine h a house bridgeport conn november 4 1869 3 211 bore tool alexander\n",
    "   allen new york city november 5 1869 3 215 mode of and device foe secure\n",
    "   stair rod h uhry new york city november 6 1869 3 229 transportation of\n",
    "   letters parcel and other freight by atmospheric pressure and in apparatus\n",
    "   connected therewith a e beach stratford conn november 9 1869 3 303 reload\n",
    "   cartridge shell r j gatl indianapolis ind november 16 1869 3 342 wooden\n",
    "   pavement i hayward and j f paul boston mass november 20 1869 3 358 machinery\n",
    "   for distribute type o l brown boston mass november 20 1869 3 219 weigh\n",
    "   machine m kennedy new york city november 10 1869 3 260 bran duster w huntley\n",
    "   and a babcock silver creek n y november 12 1869 3 339 railway carriage e\n",
    "   robbin cincinnati ohio november 19 1869 3 341 revolving battery gun r j gatl\n",
    "   indianapolis ind nov 19 1869 3 360 sash fastener s l loomi south byron n y\n",
    "   november 20 1869 3 363 magnetic machine and magnet j burrough jr newark n j\n",
    "   november 20 1869  \"  \n",
    "}\n",
    "```\n",
    "\n",
    "This story is from article number 8952 published in Scientific American, Volume 22, No. 1, January 1, 1870. The story has an internal number of `id_18`: the storyID combines the article number and the story number to yield `8952-id_18`. The URL will get you to that story directly. If you scroll to the top you'll see the article's date.\n",
    "\n",
    "For purposes of P3, only the storyID and the text are important. You may find the others helpful, particularly the URL if you want to decipher some of these documents.\n"
   ]
  },
  {
   "cell_type": "markdown",
   "metadata": {
    "id": "ucmDVvJuFDU1"
   },
   "source": [
    "<a name=\"document-parsing\"></a>\n",
    "## 1. Parse the collection of documents in `document_fpath` to build an in-memory index.\n",
    "\n",
    "To implement the first component of `run_queries(document_fpath, query_fpath, trecrun_file)`, we want to read in the tokenized and stemmed document collection provided and build an inverted index. Here are some things you will probably want to take into account.\n",
    "\n",
    "- The documents are provided as a list of json dictionary objects.\n",
    "- Because of the pre-processing we have done for you, term vectors should be constructed by splitting the text field's value by spaces (the regex \\\\s+), and ignoring blank strings. You've already shown you can tokenize, stop, and stem, so we're making it easier for this project.\n",
    " - Note that the processing in this case did not squeeze apostrophes out: instead, they were treated as word separators. That means that the word `quaker's` has resulted in tokens `quaker` and also `s`. Similarly, you'll find `t` (from `don't`) and `ve` (from `I've`) and so on as tokens. You will handle them as if they were normal words: do not remove them! That way the phrase query `\"quaker s\"` (see Part II) should find the word `quaker's` (and also `quaker s'truth` if by some weird chance that appeared in the stories).\n",
    "- Note that the index includes Unicode characters, but you should not worry about them even if they create odd tokens. Tokens are whatever is separated by a whitespace.\n",
    "- You need to build a simple inverted index with count and positional information: a combination of Figure 5.4 (p.134) and Figure 5.5 (p.135) in the textbook. (Depending on how you store things, the count may come along for free with the position information.) While you may store your index to disk to enable reuse, it is not required: an in-memory only index is sufficient for the project. (Your decision may be made partly by how long it takes to process the full collection in your implementation. It should be fast.)\n",
    "\n",
    "- Here are some recommendations regarding the data structures you will use behind these functions to implement the indea. You can use whatever data structures you feel are appropriate to implement these functcions, however, you may find these ideas helpful. We will not explicitly test your data structures.\n",
    "  - We recommend having the data storage behind your inverted index being of a form similar to **Dict[str, List[Posting]]**. Other data structures are plausible but are unlikely to provide any particular value for this project.\n",
    " - You might define a **PostingList** class that provides the **List[Posting]** datatype. Mostly that would help abstract away the implementation of the list.\n",
    " - **Posting** might be a **DocId** and **Positions** pair, so that a dictionary is used to find inverted lists and the inverted list is a list of \"Postings.\" It might also include the count of postings in that document.\n",
    " - **Positions** might be a **List[int]** or **array** of integers\n",
    " - **For the sake of efficiency (string comparisons are slow)** and memory usage, we encourage you to encode document numbers as integers, not using the *storyID* textual field. Otherwise you will not be able to answer analysis questions about compression. However, note that you will still need to be able to convert a document number back into its corresponding *storyID* for the TREC run output file. For example: getStoryID(1) would be “8951-id_1” since that's the first story in *sciam.json.gz*.\n",
    "\n",
    "- We suggest you think ahead (see [processing queries](#query-processing) below) and ensure your index can access the vocabulary, term counts, document counts and other statistics that you will need to perform the query evaluation activities. Thinking this through now will save some headaches later.\n",
    "\n",
    " - You will be writing code to handle arbitrary (but simple) queries for phrases and terms. That means your code will benefit from being general in how it handles them. You will likely find it best to have a method that allows any number of terms and/or phrases and does not depend on knowing what those terms and/or phrases will be or even how many there will be. Here are a couple of tips or ideas that may or may not help your thinking:\n",
    "   - You will be implementing scoring functions and models that produce scores that are not just integers. Put some time into it now (read ahead!) to ensure that your inverted index provides everything that is needed for those operations -- e.g., the number of terms, the number of documents, and so on. What do you think you might need to store and where would it make sense to store it?\n",
    "   - Would it benefit you to define helper functions for processes such as counting phrases and terms?\n",
    "   - Can you implement terms as phrases of length 1? That is, have one function that handles phrases and single terms that doesn't care whether there are 1 or 32 terms in the phrase. That provides a cleaner abstraction.\n",
    "\n",
    "Below is the stub of a helper function that can be implemented to build and return an inverted index for `run_queries(document_fpath, query_fpath, trecrun_file)`. You are not required to use this, and it will not be graded."
   ]
  },
  {
   "cell_type": "code",
   "execution_count": 34,
   "metadata": {
    "id": "KTdbdwisLUB3"
   },
   "outputs": [
    {
     "name": "stdout",
     "output_type": "stream",
     "text": [
      "27217\n"
     ]
    }
   ],
   "source": [
    "import math\n",
    "import sys\n",
    "import gzip\n",
    "import json\n",
    "import os\n",
    "\n",
    "# postings can be doc id: term count, list[positions]\n",
    "# how inverted list should be implemented:\n",
    "#    term: Posting()\n",
    "#        -> where object posting can be defined as shown above\n",
    "# need to make it easy to get statistics, like term counts, document counts so on and so forth.\n",
    "# need to use json parsing library (python standard) to make parsing file easier\n",
    "# -> list of dictionaries i believe or something.\n",
    "\n",
    "\"\"\"\n",
    "a posting is mapping from a single term that gives information that:\n",
    "    -> total times it occurs in the entire corpus\n",
    "    -> a list of documents that the term occurs in\n",
    "        -> the positions of which the term occurs in that document\n",
    "        -> the number of time that term occurs in that document\n",
    "\n",
    "\"\"\"\n",
    "\n",
    "def load_json(file_path: str, is_json: bool) -> None:\n",
    "    f = gzip.open(file_path, \"rt\", encoding=\"utf-8\")\n",
    "\n",
    "    if is_json:\n",
    "        results = json.load(f)['corpus']\n",
    "    else:\n",
    "        results = [line.strip(\"\\n\") for line in f.readlines() if line]\n",
    "    \n",
    "    return results\n",
    "\n",
    "class Posting:\n",
    "    def __init__(self):\n",
    "        self.total_term_count = 0\n",
    "        self.doc_to_id = {}     # doc number: storyID\n",
    "        self.id_to_doc = {}     # storyID: doc number\n",
    "        self.doc_to_term = {}   # doc_id: [term_count, [positions], word_count]\n",
    "\n",
    "    def add_story_id(self, document_number: int, storyID: str) -> None:\n",
    "        self.doc_to_id[document_number] = storyID\n",
    "        self.id_to_doc[storyID] = document_number\n",
    "    \n",
    "    # doc_id will correspond to the document number\n",
    "    def add_doc_id_info(self, doc_id: int, term_count: int, positions: list[int], word_count: int) -> None:\n",
    "        if doc_id in self.doc_to_term.keys(): # if we want to add a new term and the doc_id already exists, we just want to update the information\n",
    "            new_count = term_count + self.doc_to_term[doc_id][0] # first position is term count\n",
    "            self.doc_to_term[doc_id][1].extend(positions)\n",
    "            self.doc_to_term.update({doc_id: [new_count, self.doc_to_term[doc_id][1], word_count]})\n",
    "\n",
    "        else:\n",
    "            self.doc_to_term[doc_id] = [term_count, positions, word_count]\n",
    "    \n",
    "    def get_document_occurence(self): # returns the number of documents that this term occurs in\n",
    "        return len(self.doc_to_term.keys())\n",
    " \n",
    "def build_inverted_index(file):\n",
    "    inverted_index = {}\n",
    "    d = load_json(file, is_json=True)\n",
    "    for i, dictionary in enumerate(d):\n",
    "        document = dictionary.get('text')\n",
    "\n",
    "        positions = {}\n",
    "        document_word_lst = [word for word in document.split() if word]\n",
    "        \n",
    "        D = len(document_word_lst) # number of words in document\n",
    "        for position, word in enumerate(document_word_lst): # obtains word: list(type: int, contains: zero-indexed positions)\n",
    "            if word:\n",
    "                positions.setdefault(word, []).append(position)\n",
    "            \n",
    "        for word, positions in positions.items():\n",
    "            if word not in inverted_index:\n",
    "                new_posting = Posting()\n",
    "                new_posting.add_story_id(i, dictionary.get(\"storyID\"))\n",
    "                new_posting.add_doc_id_info(i, len(positions), positions, D)\n",
    "                inverted_index[word] = new_posting\n",
    "            else:\n",
    "                inverted_index[word].add_story_id(i, dictionary.get(\"storyID\"))\n",
    "                inverted_index[word].add_doc_id_info(i, len(positions), positions, D)\n",
    "\n",
    "            inverted_index[word].total_term_count += len(positions)\n",
    "    return inverted_index\n",
    "\n",
    "# Example usage\n",
    "# d = load_json(\"./data/sciam.json.gz\", is_json=True)\n",
    "inverted_index = build_inverted_index(\"./data/sciam.json.gz\")\n",
    "print(len(inverted_index))\n",
    "\n"
   ]
  },
  {
   "cell_type": "markdown",
   "metadata": {
    "id": "Z1fS3x8rJhsC"
   },
   "source": [
    "### 1.1 Debugging the Index\n",
    "\n",
    "We recommend that you consider a helper method to print out some information to help you debug your index. There are other ways to do this, but we're setting things up to ensure you can do it this way if you like. We will not test this function or even verify that it exists. (Though please make sure the cell does not trigger an error.)\n",
    "\n",
    "For example, you might print out some information that will be helpful for verifying your index overall for some array of terms. It could first print the number of documents, the number of unique terms that are in the collection, and the total number of term occurrences. Then, for each term listed, it could print out one line with the term, the number of documents containing that term, and the total number of occurrences of that term.\n",
    "\n",
    "Here is some sample output that you should get for this data using this collection, but since we will not actually test your code (it is for debugging only), the actual format does not matter.\n",
    "\n",
    "```\n",
    "debug_inverted_index(inverted_index, [\"and\",\"the\", \"elephant\",\"science\"], showTerms=False)\n",
    "\n",
    "976 docs, 27217 terms, 1185999 occurrences\n",
    "and 956 docs, 34896 occurrences\n",
    "the 966 docs, 96151 occurrences\n",
    "elephant 7 docs, 18 occurrences\n",
    "science 112 docs, 251 occurrences\n",
    "\n",
    "```\n",
    "\n",
    "You might also consider creating something that prints out parts of the inverted list so you can see what's there. For example, you might have the argument “showTerms” that prints out the inverted list for the listed terms. For example, you might show something like this:\n",
    "\n",
    "\n",
    "```\n",
    "debug_inverted_index(inverted_index, [\"elephant\", \"science\"], showTerms=True)\n",
    "\n",
    "**** elephant - 7 docs, 18 occurrences\n",
    "  at {8952-id_12 [259]} {38481-art31 [317, 438, 464]} {38482-art25 [3, 24, 47]} {8391-id_13 [5, 35, 80, 106, 350, 1014, 1225, 1466]} {8504-id_30 [38]} {24322-art09 [647]} {15193-art17 [396]}\n",
    "**** science - 112 docs, 251 occurrences\n",
    "  at {8951-id_9 [35]} {8951-id_21 [171]} {8952-id_15 [1561]} {8952-id_30 [40, 69, 120]} {8952-id_31 [5, 108, 134, 172, 406, 429, 485, 493, 559, 623, 739, 780, 956, 1063, 1072, 1126, 1183, 1391, 1684, 1693, 1941, 2015, 2172, 2222, 2302, 2343, 2392, 2404, 2551, 2564]} {8952-id_33 [196, 244, 524]} {8952-id_44 [112]} {8952-id_46 [18]} {8952-id_69 [9595, 15195]} {19180-art22 [1645]} {19180-art28 [90, 152]} {19180-art33 [131, 389]} {19180-art35 [277, 302, 565, 701, 852, 926]} {19180-art41 [152]} {19180-art53 [4613, 4625, 10221, 11314, 11326, 17166]} {19406-art48 [329, 554, 862, 1537]} {19406-art31 [5]} {19406-art44 [502, 726]} {19406-art68 [892]}\n",
    "```\n",
    "\n",
    "(For reasons of space, the output for `science` is truncated and the output for `and` as well as `the` is not shown at all.)\n",
    "\n",
    "Reminder, providing these debug functions is entirely optional. The autograder will not test whether you have any code that does that. However, you are likely to find something like this helpful as you debug your code -- e.g., it gives you a list of the documents that your query processing should return for simple one-word queries. Also, it's fair for the teaching staff to ask you for something comparable when you post a question that appears like it might be the result of incorrect indexing."
   ]
  },
  {
   "cell_type": "code",
   "execution_count": 35,
   "metadata": {
    "colab": {
     "base_uri": "https://localhost:8080/"
    },
    "executionInfo": {
     "elapsed": 5,
     "status": "ok",
     "timestamp": 1732528523982,
     "user": {
      "displayName": "Debrup Das",
      "userId": "04906306871166104749"
     },
     "user_tz": 300
    },
    "id": "B5PUlV88JBRu",
    "outputId": "0c5dd916-5350-4801-e391-d9900ef22ae5"
   },
   "outputs": [
    {
     "name": "stdout",
     "output_type": "stream",
     "text": [
      "and 34896 occurrences 956 docs\n",
      "the 96151 occurrences 966 docs\n",
      "elephant 18 occurrences 7 docs\n",
      "science 251 occurrences 112 docs\n"
     ]
    }
   ],
   "source": [
    "def debug_inverted_index(inverted_index, terms, showTerms=True):\n",
    "    \"\"\"\n",
    "        Print out debugging information for the index\n",
    "\n",
    "        Args:\n",
    "            inverted_index: the inverted index data structure.\n",
    "            terms: an array of strings, representing the terms to debug\n",
    "            showTerms: defaults to true, will print out inverted list instead of # of docs and occurrences for each term\n",
    "\n",
    "        Returns: n/a\n",
    "      \"\"\"\n",
    "    for term in terms:\n",
    "        if term in inverted_index.keys():\n",
    "            posting = inverted_index[term]\n",
    "            print(term, posting.total_term_count, \"occurrences\", posting.get_document_occurence(), \"docs\")\n",
    "\n",
    "# Example usage\n",
    "debug_inverted_index(inverted_index, [\"and\", \"the\", \"elephant\",\"science\"], showTerms=False)\n"
   ]
  },
  {
   "cell_type": "markdown",
   "metadata": {
    "id": "VGAxufCzKO4h"
   },
   "source": [
    "<a name=\"query-processing\"></a>\n",
    "## 2. Read and process a list of queries from `query_fpath`\n",
    "\n",
    "The second component of `run_queries()` requires you to run a sequence of queries that are provided in *P3_eval.tsv*. You will want to have read the appropriate parts of Chapter 7 in the text. Recall that *sciam.json.gz* is the set of documents you index and *P3_eval.tsv* is a list of queries to run. We are also providing *P3train.tsv* and *P3train.trecrun* which are a set of sample queries and their expected output, respectively.\n",
    "\n",
    "The list of queries (in *P3train.tsv* and in *P3_eval.tsv*) comprises lines with at least three fields separated by tabs (tsv = tab separated values) in the format:\n",
    "\n",
    "> queryType queryName wordPhrase1 wordPhrase2 … wordPhraseN\n",
    "\n",
    "where:\n",
    "\n",
    "- *queryType* is one of the following, indicating what type of query you will be processing (case does not matter, so AND, and, And, aNd, and so on, are all the same):\n",
    " - **AND** means a Boolean query that is the AND of all of the *wordPhrases* listed.\n",
    " - **OR** means a Boolean query that is the OR of all of the *wordPhrases* listed.\n",
    " - **QL** means you will run a query likelihood algorithm with the *wordPhrases* as the query. QL is discussed starting in 7.3.1 of the textbook. You are asked to implement the version that uses Dirichlet smoothing, discussion of which starts on page 258 of both versions of the textbook. Use μ=300.\n",
    " - **BM25** means you will use the BM25 algorithm with the *wordPhrases* being the query. BM25 scoring is described starting on page 250 of the PDF or printed textbook. Please use these values for your scoring: k_1=1.8, k2=5, b=0.75.\n",
    " - **TF** means you will calculate the raw term frequency of *wordPhrase* for each story in which it appears. Only wordPhrase1 (one phrase or word) would be present for TF. Rank of documents will be determined based on value of term frequency. Do not include documents that do not contain the phrase in the trecrun output file.\n",
    " - **DF** means you will calculate the document frequency of each *wordPhrase* listed (yes, even if it is a phrase). There will be N seperate lines for N wordPhrases. Your output (shown later) in trecrun file will show the *wordPhrase* as if it were a document and the DF as the score. Rank will be ignored (just output i as rank for WordPhrasei).\n",
    "- *queryName* is a provided name for this query (e.g., \"query1\" or \"12354\" or \"smelt\"). The first column of every output line will be this *queryName* (for this query).\n",
    "- *wordPhraseK* are the words/phrases that you need to find using your index.\n",
    " - If there are multiple words (separated by spaces) in a *WordPhrase*, it means a phrase and that those words must occur adjacent in an article and in that given order. Although phrases are often indicated by quotation marks elsewhere, they are _not_ used here.\n",
    " - Note that there will always be at least one *wordPhrase* and there is no theoretical limit on the value of N.\n"
   ]
  },
  {
   "cell_type": "markdown",
   "metadata": {
    "id": "565kqXUNDAmI"
   },
   "source": [
    "###**Handling phrases**\n",
    "\n",
    "If a *wordPhrase* contains one or more spaces, it is a phrase. (Recall that the *wordPhrases* are separated by tabs, so there can be spaces within them.) A phrase requires a match with two or more adjacent words in each document.\n",
    "\n",
    "For QL and BM25 (and DF), you need to know the number of times a phrase occurs in a document. (For Boolean you just have to know that number is at least one for a given document.) To do that, you'll have to actually do the equivalent of running that phrase as if it were a query. Remember that you are only interested in phrases, where the words occur next to each other in the order given; you do not need to handle things like “within 5 words” or “in the same sentence.”\n",
    "\n",
    "TF and DF and essentially index-probing \"query\" types. For DF, you must allow multiple *wordPhrase* occurrences as in all of the others and expect them to be phrases or single words. For TF, only 1 WordPhrase will be present in the query. For TF, you will be scoring and ranking the documents by the TF count (with ties broken appropriately). For DF, your output will display the *wordPhrase* where the document would normally be, the DF value where the score would be, and the rank will be ignored (still output i for WordPhrase i).\n",
    "\n"
   ]
  },
  {
   "cell_type": "markdown",
   "metadata": {
    "id": "2w42CvQFDGEs"
   },
   "source": [
    "<a name=\"output-formatting\"></a>\n",
    "###**Output format**\n",
    "\n",
    "The output of your program will be a file called *output.trecrun* containing a number of lines per query in *P3_eval.tsv*. You are going to use the \"TREC run format\" as follows. For each query, you will display its ranked list using exactly six columns per line. White space (spaces or tabs) is used to separate columns. The width of the columns in the format is not important, but it is important to have exactly six columns per line with at least one space between the columns (note that no queryName or storyID contains a space). The format is,\n",
    "\n",
    "> *queryName* skip *storyID* rank score *yourUsername*\n",
    "\n",
    "where\n",
    "\n",
    "- the first column is the *queryName* from the file *P3train.tsv*\n",
    "- the second column is currently unused and should always be `skip`.\n",
    "- the third column is the value of the *storyID* JSON field of this ranked document. (For the DF query type, it should be the *wordPhrase*.)\n",
    "- the fourth column is the rank of the document retrieved. You will list things sorted by rank within the query, with the highest score having rank 1 and there being no ties (even though there might be ties in the scores; break ties by sorting by *storyID*). The rank will be ignored for the DF type, though you must provide a value.)\n",
    "- the fifth column shows the score (floating point with 4 places of decimal) that generated the ranking. This score must be in descending (non-increasing) order. The score for a Boolean query will always be 1.0000. The score for TF and DF query types should be the term frequency or document frequency, respectively.\n",
    "- the sixth column is called the \"run tag\" and is traditionally a unique identifier for you and for the method used. In this case, just use your SPIRE username (e.g., \"allan\" for the professor). Please do not turn in results with \"username\" (or \"allan\") as the identifier.\n",
    "\n",
    "\n",
    "Here is an example of what this might look like (the information is made up; see sample output for real results). It aligns the columns to make them easier to read; you do not have to do that. For example,\n",
    "```\n",
    "Qbm   skip 8951-id_20           1    1.0000   username\n",
    "Qbm   skip 19406-art03          2    0.5000   username\n",
    "Qbm   skip 19412-art13          3    0.2000   username\n",
    "Qql   skip 38481-artnq13        1    0.3333   username\n",
    "Qql   skip 21081-article44-11   2    0.2505   username\n",
    "…\n",
    "Qtf   skip 13443-elec1          1    7.0000   username\n",
    "Qtf   skip 38481-artnq13        2    1.0000   username\n",
    "Qdf1  skip {WordPhrase1}        1    8.0000   username\n",
    "Qdf1  skip {WordPhrase2}        2    5.0000   username\n",
    "…\n",
    "```\n",
    "**Note that all queries are printed to _output.trecrun_** (the filename passed into the run_queries function), with all matching stories per query.\n",
    "\n",
    "(1) For QL, BM25, and TF, a story matches a ranked query if it contains at least one of the query terms (TF has only 1 term);\n",
    "\n",
    "(2) It matches a Boolean query AND, OR if it satisfies the Boolean expression.\n",
    "\n",
    "(3) If any QL, BM25, AND, OR, TF, DF query happens to retrieve zero documents (or DF is zero for a WordPhrase), there will be no lines in the output file for that query (no lines for the WordPhrase for DF). If any TF query has 0 term frequency for some document, that document should be omitted from your output. Any term frequency greater than zero for any document should otherwise be printed out to *output.trecrun*.\n",
    "\n",
    "\n",
    "\n",
    "\n",
    "**NOTE**: If any *wordPhrase* in a DF query has 0 document frequency, there will be no line in the output file for that *wordPhrase*. Also note that for the DF measure, the *wordPhrase* instances are independent of each other: they are not processed as a group as they are for the other items. Just output one line per *wordPhrase* word or phrase.\n"
   ]
  },
  {
   "cell_type": "markdown",
   "metadata": {
    "id": "khK8rRdi8IMT"
   },
   "source": [
    "###2.1 Running TF and DF queries\n",
    "\n",
    "TF and DF calculate a score that is intended to reflect the raw term frequency or document frequency, respectively. That score produces the ranking.\n",
    "\n",
    "For TF, the score for a document is the raw term frequency, or the number of times a *wordPhrase* occurs in the document. For any TF query, we will calculate the raw term frequency across all documents, and rank according to the raw term frequency. Ties should be broken according to the *storyID* string (see for AND and OR below in Section 2.2). For example, '21081-article1' comes before '8952-id_63'. If the TF is 0 for any document, do not list that document in the output. **For TF, return all documents that contain at least one occurrence of the term**. Documents without the term will not be listed.\n",
    "\n",
    "For DF, the output is a bit different. The \"storyID\" field will be replaced by the *wordPhrase*, the score will be the document frequency for that *wordPhrase*, and the rank will be ignored. If the DF is 0 for the given *wordPhrase*, we will not print anything in *output.trecrun* for that *wordPhrase*. **NOTE: If the _wordPhrase_ is a phrase -- i.e., it contains spaces -- replace all of the spaces with underscores.** That is because the trecrun file format does not allow spaces in docids and we want to be consistent with that format. So `DF qname united<tab>states<tab>united states` woudl result in one line for `united`, another for `states`, and one for the phrase that would look liked `united_states`. Note that if the query were actually `DF qname united_states` the output would look the same (`united_states`) but the DF count would almost certainly be different.\n",
    "\n",
    "Below are sample helper methods that you can use to help implement TF and DF query processing for `index_run()`. However, you are not required to use this method, and will not be graded on it."
   ]
  },
  {
   "cell_type": "code",
   "execution_count": 36,
   "metadata": {
    "id": "-QDfSLmhi2kI"
   },
   "outputs": [
    {
     "name": "stdout",
     "output_type": "stream",
     "text": [
      "152.0\n"
     ]
    }
   ],
   "source": [
    "def get_story_id(inverted_index, doc_id):\n",
    "    for posting in inverted_index.values():\n",
    "        if doc_id in posting.doc_to_id.keys():\n",
    "            return posting.doc_to_id[doc_id]\n",
    "    return \"\"    \n",
    "        \n",
    "def get_all_doc_ids(inverted_index):\n",
    "    # returns doc_ids that contain at least element in the query\n",
    "    doc_ids = set()\n",
    "    for posting in inverted_index.values():\n",
    "        for doc_id in posting.doc_to_term.keys():\n",
    "            doc_ids.add(doc_id)\n",
    "    return list(doc_ids)\n",
    "\n",
    "def filter_postings(wordPhrase: str) -> dict[str: dict[int: list[int]]]: # word: dict[doc_id: positions]\n",
    "    \"\"\"\n",
    "    wordPhrase can either be a phrase (multiple words with at least one space, i.e., \"united states\")\n",
    "    or can either be a single term, \"lincoln\"\n",
    "    \"\"\"\n",
    "    word_info = {} # {(word: str, doc_id: int): positions: list[int]}\n",
    "    split_phrase = [word for word in wordPhrase.split() if word != \"\"]\n",
    "    doc_id_lst = []\n",
    "    if all(True if word in inverted_index.keys() else False for word in split_phrase):\n",
    "        for word in split_phrase:\n",
    "            tmp = [] # holds doc_ids of which the current word of iteration occurs in\n",
    "            for doc_id in inverted_index[word].doc_to_term.keys():\n",
    "                tmp.append(doc_id)\n",
    "            doc_id_lst.append(tmp) # list of lists, each individually represents what docs contain which term, where the indice is the key\n",
    "\n",
    "        combined_lst = list(set.intersection(*map(set, doc_id_lst)))\n",
    "        \n",
    "        if len(combined_lst) == 0:\n",
    "            return None # if intersection results elements sharing no common documents, then the phrase cannot be returned properly.\n",
    "\n",
    "        big_dict = {}\n",
    "        for word in split_phrase:\n",
    "            for doc_id, items in inverted_index[word].doc_to_term.items():\n",
    "                if doc_id in combined_lst:\n",
    "                    word_info[doc_id] = items[1]\n",
    "            big_dict[word] = word_info\n",
    "            word_info = {}\n",
    "        return big_dict\n",
    "    \n",
    "\n",
    "def count_phrase_occurrence(doc_id: int, phrase: list[str], filtered_postings: dict) -> int:\n",
    "    pos_dict = {\n",
    "        word: sorted(filtered_postings[word][doc_id]) \n",
    "        for word in phrase\n",
    "        if word in filtered_postings and doc_id in filtered_postings[word]\n",
    "    }\n",
    "\n",
    "    pos_dict = {\n",
    "        word: sorted(filtered_postings[word][doc_id])  # Ensure positions are sorted\n",
    "        for word in phrase\n",
    "        if word in filtered_postings and doc_id in filtered_postings[word]\n",
    "    }\n",
    "\n",
    "    if len(pos_dict) < len(phrase):\n",
    "        return 0\n",
    "\n",
    "    phrase_occurrences = 0\n",
    "    first_word_positions = pos_dict[phrase[0]]\n",
    "\n",
    "    for start_pos in first_word_positions:\n",
    "        if all(start_pos + i in pos_dict[phrase[i]] for i in range(len(phrase))):\n",
    "            phrase_occurrences += 1\n",
    "\n",
    "    return phrase_occurrences\n",
    "\n",
    "def check_adj(postings, word_lst, doc_id):\n",
    "    \"\"\"\n",
    "    postings: dict[word: dict[doc_id: positions -> list[int] ]]\n",
    "    word_lst: word seperated list, returned from ele.split(), i.e., [\"hello\", \"world\"]\n",
    "    doc_id: document ids that contain every element in word_lst\n",
    "    \"\"\"\n",
    "    if postings is None or not word_lst:\n",
    "        return False\n",
    "\n",
    "    positions = [postings.get(word, {}).get(doc_id, []) for word in word_lst]\n",
    "    continuous_positions = set(positions[0])\n",
    "\n",
    "    for i in range(1, len(positions)):\n",
    "        continuous_positions = {p + 1 for p in continuous_positions} & set(positions[i])\n",
    "        if not continuous_positions:\n",
    "            return False\n",
    "        \n",
    "    return True\n",
    "\n",
    "def get_total_word_count(inverted_index):\n",
    "    total = 0\n",
    "    for posting in inverted_index.values():\n",
    "        total += posting.total_term_count\n",
    "    return total\n",
    "\n",
    "def tf(inverted_index, doc_id, term):\n",
    "    \"\"\"\n",
    "      Calculate the number of times a term or phrase appears in a document\n",
    "\n",
    "      Args:\n",
    "          inverted_index: the inverted index data structure.\n",
    "          doc_id: the document we want to calculate the term frequency for.\n",
    "          term: the term or phrase we want to calculate the frequency for.\n",
    "\n",
    "      Returns: an integer representing the number of times the term appears in doc_id.\n",
    "    \"\"\"\n",
    "\n",
    "    term_frequency = 0.0000\n",
    "    term_lst = [w for w in term.split() if w]\n",
    "    \n",
    "    if len(term_lst) == 1:\n",
    "        if doc_id in inverted_index[term].doc_to_term.keys(): \n",
    "            return inverted_index[term].doc_to_term[doc_id][0] # doc_to_term -> doc_id: [term_count, positions, word_count(in doc)]\n",
    "        else:\n",
    "            return 0.0000\n",
    "    \n",
    "    elif len(term_lst) > 1:\n",
    "        filtered_postings = filter_postings(term)\n",
    "        if filtered_postings is not None:\n",
    "            if check_adj(filtered_postings, term_lst, doc_id):\n",
    "                return count_phrase_occurrence(doc_id, term_lst, filtered_postings)\n",
    "\n",
    "        else:\n",
    "            return 0.0000\n",
    "\n",
    "    return term_frequency\n",
    "# v = tf(inverted_index, 975, \"united states\")\n",
    "# print(v)\n",
    "d = get_all_doc_ids(inverted_index)\n",
    "a = 0\n",
    "for i in d:\n",
    "    \n",
    "    # v = tf(inverted_index, i, \"of the motion\")\n",
    "    v = tf(inverted_index, i, \"broadway\")\n",
    "    a += v\n",
    "    # if v > 0:\n",
    "        # print(i, v)\n",
    "print(a)"
   ]
  },
  {
   "cell_type": "code",
   "execution_count": 37,
   "metadata": {
    "id": "eg5JE8xtjcIE"
   },
   "outputs": [
    {
     "name": "stdout",
     "output_type": "stream",
     "text": [
      "106\n"
     ]
    }
   ],
   "source": [
    "\n",
    "def df(inverted_index, wordPhrase):\n",
    "    \"\"\"\n",
    "      Calculate the number of documents a term or phrase appears in\n",
    "      NOTE that this sample only handles one wordPhrase at at time and so only returns\n",
    "      a single number. This is primarily to highlight that it operates differently\n",
    "      than the others that are ranking documents.\n",
    "\n",
    "      Args:\n",
    "          inverted_index: the inverted index data structure.\n",
    "          wordPhrase: the term or phrase we want to calculate the frequency for.\n",
    "\n",
    "      Returns: an integer representing the number of documents a term or phrase appears in.\n",
    "    \"\"\"\n",
    "\n",
    "    doc_freq = 0\n",
    "    term_lst = wordPhrase.split()\n",
    "    if len(term_lst) == 1:\n",
    "        if wordPhrase in inverted_index.keys():\n",
    "            return inverted_index[wordPhrase].get_document_occurence()\n",
    "        else:\n",
    "            return doc_freq\n",
    "    elif len(term_lst) > 1:\n",
    "        filtered_postings = filter_postings(wordPhrase)\n",
    "        if filtered_postings is not None:\n",
    "            for doc_id in filtered_postings[term_lst[0]].keys():\n",
    "                if check_adj(filtered_postings, term_lst, doc_id):\n",
    "                    doc_freq += 1\n",
    "        else:\n",
    "            return doc_freq\n",
    "    return doc_freq\n",
    "test = \"united states\" #\n",
    "# test = \"hospital\"\n",
    "t = df(inverted_index, test)\n",
    "print(t)\n"
   ]
  },
  {
   "cell_type": "code",
   "execution_count": 38,
   "metadata": {
    "id": "ow4xur7dj3XA"
   },
   "outputs": [
    {
     "name": "stdout",
     "output_type": "stream",
     "text": [
      "2\n"
     ]
    }
   ],
   "source": [
    "\n",
    "def collection_frequency(inverted_index, term):\n",
    "    \"\"\"\n",
    "      Calculate the number of times a term or phrase appears in the corpus\n",
    "\n",
    "      Args:\n",
    "          inverted_index: the inverted index data structure.\n",
    "          term: the term or phrase we want to calculate the frequency for.\n",
    "\n",
    "      Returns: an integer representing the number of times the term appears in the corpus.\n",
    "    \"\"\"\n",
    "\n",
    "    collection_freq = 0\n",
    "\n",
    "    term_lst = [t for t in term.split() if t]\n",
    "    if len(term_lst) == 1:\n",
    "        return inverted_index[term].total_term_count if term in inverted_index.keys() else collection_freq\n",
    "    \n",
    "    elif len(term_lst) > 1:\n",
    "        filtered_postings = filter_postings(term)\n",
    "        if filtered_postings is not None:\n",
    "            for doc_id in filtered_postings[term_lst[0]].keys():\n",
    "                if check_adj(filtered_postings, term_lst, doc_id):\n",
    "                    collection_freq += count_phrase_occurrence(doc_id, term_lst, filtered_postings)\n",
    "        else:\n",
    "            return collection_freq\n",
    "    return collection_freq\n",
    "t = \"own subscription\"\n",
    "# t = \"detail and specification\"\n",
    "f = collection_frequency(inverted_index, t)\n",
    "print(f)"
   ]
  },
  {
   "cell_type": "markdown",
   "metadata": {
    "id": "lfSED4v6KR37"
   },
   "source": [
    "### 2.2 Running Boolean queries\n",
    "Your program will be expected to handle queries that find words, phrases (two or more adjacent words), or combinations of both. The queries will return the complete set of *storyID*s that match the Boolean query. Obviously there will never be more than the total number of stories in the collection.\n",
    "\n",
    "There are no scores other than 1.0 (match) or 0.0 (doesn't match) calculated, so sort the matching documents (all of which have a score of 1.0) by the *storyID* string (as a string, ignoring that it might look like a number in some ways -- i.e., “11-x” comes before “2-x”. '21081-article1' comes before '8952-id_63') and print out the list that way, increasing the rank from 1 through the number that match.\n",
    "\n",
    "Below are sample helper methods that you can use to help implement boolean query processing for `run_queries()`. However, remember that you are not required to use this method, and will not be graded on the method itself."
   ]
  },
  {
   "cell_type": "code",
   "execution_count": 39,
   "metadata": {
    "id": "yfigiQaEOF9w"
   },
   "outputs": [
    {
     "name": "stdout",
     "output_type": "stream",
     "text": [
      "[('15889-art14', 1.0), ('11649-id_6', 1.0), ('15193-art10', 1.0), ('16948-art00', 1.0), ('15708-ref10', 1.0), ('14990-art14', 1.0), ('11648-id_15', 1.0), ('13443-tech1', 1.0), ('24322-art17', 1.0), ('15050-II_1', 1.0)] \n",
      " 10\n"
     ]
    }
   ],
   "source": [
    "def intersect(inverted_index, wordPhrases):\n",
    "    \"\"\"\n",
    "      Evaluate an AND boolean query over all wordPhrases in the query\n",
    "\n",
    "      Args:\n",
    "          inverted_index: the inverted index data structure.\n",
    "          wordPhrases: a list of words or phrases to search for.\n",
    "\n",
    "      Returns: an array of tuples, where the first value is the doc_id, and the second is the score\n",
    "    \"\"\"\n",
    "    \n",
    "    results = []\n",
    "    wordPhrase_lst = [phrase for phrase in wordPhrases.split(\"\\t\") if phrase]\n",
    "    filtered_docs = None\n",
    "    valid_docs = []\n",
    "    for phrase in wordPhrase_lst:\n",
    "        if len(phrase) > 1 and \" \" in phrase: # multiple words in this phrase\n",
    "            word_separated_lst = [word for word in phrase.split() if word]\n",
    "            filtered_postings = filter_postings(phrase)\n",
    "\n",
    "            if filtered_postings is None:\n",
    "                return results\n",
    "\n",
    "            phrase_docs = set(filtered_postings[word_separated_lst[0]].keys())  # get doc_ids for the first word, doesnt matter which one since the rest must occur in the doc of the first word\n",
    "\n",
    "            for doc_id in phrase_docs:\n",
    "                if check_adj(filtered_postings, word_separated_lst, doc_id):  # check adjacency\n",
    "                    valid_docs.append(doc_id)\n",
    "\n",
    "            if filtered_docs is None:\n",
    "                filtered_docs = valid_docs\n",
    "            else:\n",
    "                filtered_docs &= valid_docs\n",
    "            \n",
    "        else:  # phrase is a single word\n",
    "            filtered_postings = filter_postings(phrase)\n",
    "            if filtered_postings is None:\n",
    "                return results\n",
    "            valid_docs = set(filtered_postings[phrase].keys())\n",
    "\n",
    "            if filtered_docs is None:\n",
    "                filtered_docs = valid_docs\n",
    "            else:\n",
    "                filtered_docs &= valid_docs\n",
    "\n",
    "    if filtered_docs:\n",
    "        for doc_id in filtered_docs:\n",
    "            # Assuming the first word in the first phrase maps to doc_id -> id\n",
    "            results.append((get_story_id(inverted_index, doc_id), 1.0000))\n",
    "\n",
    "    return results\n",
    "\n",
    "test_phrase = \"detail and specification\"\n",
    "# test_phrase = \"plant in sleep rooms the following\\tplant in sleep following\"\n",
    "# test_phrase = \"improvement\"\n",
    "t = intersect(inverted_index, test_phrase)\n",
    "print(t, \"\\n\", len(t))"
   ]
  },
  {
   "cell_type": "code",
   "execution_count": 40,
   "metadata": {
    "id": "GAT1Op5YOG8F"
   },
   "outputs": [
    {
     "name": "stdout",
     "output_type": "stream",
     "text": [
      "971\n"
     ]
    }
   ],
   "source": [
    "\n",
    "def union(inverted_index, wordPhrases):\n",
    "    \"\"\"\n",
    "      Evaluate an OR boolean query over all wordPhrases in the query\n",
    "\n",
    "      Args:\n",
    "          inverted_index: the inverted index data structure.\n",
    "          wordPhrases: a list of words or phrases to search for.\n",
    "\n",
    "      Returns: a set of tuples, where the first value is the doc_id, and the second is the score\n",
    "    \"\"\"\n",
    "    results = []\n",
    "    phrase_lst = [word for word in wordPhrases.split(\"\\t\") if word]\n",
    "    doc_ids = get_all_doc_ids(inverted_index)\n",
    "    for doc_id in doc_ids:\n",
    "        if any(True for phrase in phrase_lst if tf(inverted_index, doc_id, phrase) > 0): # this doc has at least one matching phrase\n",
    "            results.append((get_story_id(inverted_index, doc_id), 1.0000))\n",
    "\n",
    "    return results\n",
    "\n",
    "# test_phrase = \"united\\tstates\"\n",
    "test_phrase = \"motion\\tof\\tthe\"\n",
    "t = union(inverted_index, test_phrase)\n",
    "t = sorted(t, key=lambda x: x[0])\n",
    "print(len(t))\n",
    "# for r in t:\n",
    "#     print(r)"
   ]
  },
  {
   "cell_type": "markdown",
   "metadata": {
    "id": "erwaOuSsKjUU"
   },
   "source": [
    "### 2.3 Running QL and BM25 queries\n",
    "\n",
    "The QL and BM25 approaches calculate a score that is intended to reflect the probability of relevance in some way. That score produces the ranking.\n",
    "\n",
    "For QL, the score is the product of a number of small numbers (probabilities), which runs the risk of creating arithmetic underflow. Represent probabilities as the log (**natural log**) of the probabilities and sum them. That means that the score for these ranking runs will be negative, since the log of a number less than one (e.g., a probability) will be negative. Sorting in reverse order by the negative scores will put higher probabilities at the start of the list as you want.\n",
    "\n",
    "For QL and BM25, **only print documents at ranks 1 through 100, inclusive**, unless the query matches fewer than 100 stories, **in which case list everything retrieved** (that is, any story that includes at least one of the query terms). If there are documents with the same score, break the tie by sorting those by the storyID textual field's value (as a string, ignoring that it looks like a number in some ways -- i.e., “11-x” comes before “2-x”). Similarly, '21081-article1' comes before '8952-id_63'.\n",
    "\n",
    "Below are sample helper methods that you can use to help implement QL and BM25 query processing for `run_queries()`. They copy the constant values that were listed above for ease of reference. However, you are not required to use this method, and will not be graded on it."
   ]
  },
  {
   "cell_type": "code",
   "execution_count": 41,
   "metadata": {
    "id": "gd-uU6eGOKkO"
   },
   "outputs": [
    {
     "name": "stdout",
     "output_type": "stream",
     "text": [
      "182\n"
     ]
    }
   ],
   "source": [
    "def get_all_doc_ids(inverted_index):\n",
    "    # returns doc_ids that contain at least element in the query\n",
    "    doc_ids = set()\n",
    "    for posting in inverted_index.values():\n",
    "        for doc_id in posting.doc_to_term.keys():\n",
    "                doc_ids.add(doc_id)\n",
    "    return list(doc_ids)\n",
    "\n",
    "def get_num_words_by_doc(inverted_index, doc_id):\n",
    "    for posting in inverted_index.values():\n",
    "        if doc_id in posting.doc_to_term.keys():\n",
    "            return posting.doc_to_term[doc_id][2]\n",
    "    return 0\n",
    "\n",
    "\n",
    "def query_likelihood(inverted_index, wordPhrases):\n",
    "    \"\"\"\n",
    "      Evaluate a QL query over all wordPhrases\n",
    "\n",
    "      Args:\n",
    "          inverted_index: the inverted index data structure.\n",
    "          wordPhrases: a list of words or phrases to search for.\n",
    "\n",
    "      Returns: a set of tuples, where the first value is the doc_id, and the second is the score\n",
    "    \"\"\"\n",
    "    # need to keep track of number of words per document, maybe edit data structure\n",
    "    # c_qi frequency of term qi in the collection (.total_term_count)\n",
    "    # |D| = number of words in document (doc_to_term[2])\n",
    "    # f_qi,D = number of times word q_i occurs in document (doc_id: term_count)\n",
    "    # |C| = total number of words in the collection \n",
    "    ranking = []\n",
    "    mu = 300  # Dirichlet smoothing parameter\n",
    "    phrase_lst = [phrase for phrase in wordPhrases.split(\"\\t\") if phrase] # list of phrases in the query [[phrase1], [phrase2]]\n",
    "    doc_id_lst = get_all_doc_ids(inverted_index)\n",
    "    C = get_total_word_count(inverted_index)\n",
    "\n",
    "    for doc_id in doc_id_lst:\n",
    "        pqd = 0\n",
    "        if any(True for phrase in phrase_lst if tf(inverted_index, doc_id, phrase) > 0):\n",
    "            for phrase in phrase_lst:\n",
    "                word_lst = phrase.split()\n",
    "                n = len(word_lst)\n",
    "                if n == 1 and all(True if word in inverted_index.keys() else False for word in word_lst):\n",
    "                    c_qi = inverted_index[word_lst[0]].total_term_count\n",
    "                    f_qi = inverted_index[word_lst[0]].doc_to_term[doc_id][0] if doc_id in inverted_index[word_lst[0]].doc_to_term.keys() else 0\n",
    "                    D = get_num_words_by_doc(inverted_index, doc_id)\n",
    "                    pqd += math.log( (f_qi + mu*(c_qi/C))/(D + mu) )\n",
    "\n",
    "                elif n > 1 and all(True if word in inverted_index.keys() else False for word in word_lst):\n",
    "                    c_qi = collection_frequency(inverted_index, phrase)\n",
    "                    f_qi = tf(inverted_index, doc_id, phrase)\n",
    "                    D = get_num_words_by_doc(inverted_index, doc_id)\n",
    "                    pqd += math.log( (f_qi + mu*(c_qi/C)) / (D + mu) )\n",
    "                \n",
    "            story_id = get_story_id(inverted_index, doc_id)\n",
    "            ranking.append((story_id, pqd))\n",
    "        \n",
    "    return ranking\n",
    "# test_phrase = \"improvement in\\timprovement\"\n",
    "test_phrase = \"united\\tstates\"\n",
    "# test_phrase = \"hospital\\t\"\n",
    "t = query_likelihood(inverted_index, test_phrase)\n",
    "print(len(t))\n",
    "# for i, r in enumerate(sorted(t, key=lambda x: x[1], reverse=True)):\n",
    "#     print(i, r)"
   ]
  },
  {
   "cell_type": "code",
   "execution_count": 42,
   "metadata": {
    "id": "WHf2GC3EOMwo"
   },
   "outputs": [
    {
     "name": "stdout",
     "output_type": "stream",
     "text": [
      "182\n"
     ]
    }
   ],
   "source": [
    "def get_avdl(inverted_index=None, num_docs=0, get_smallest=False, get_largest=True):\n",
    "    num = 0\n",
    "    doc_id_set = set()\n",
    "    dl_collection = {}\n",
    "    for posting in inverted_index.values():\n",
    "        for doc_id in posting.doc_to_term.keys():\n",
    "            if doc_id not in doc_id_set:\n",
    "                doc_id_set.add(doc_id)\n",
    "                num += posting.doc_to_term[doc_id][2]\n",
    "                \n",
    "                if get_largest or get_smallest:\n",
    "                    dl_collection[doc_id] = posting.doc_to_term[doc_id][2]\n",
    "\n",
    "    if get_smallest and get_largest:\n",
    "        return (num / num_docs, dl_collection)\n",
    "    \n",
    "    return num / num_docs\n",
    "\n",
    "\n",
    "def bm25(inverted_index, words):\n",
    "    \"\"\"\n",
    "      Perform a bm25 query over all words in the query\n",
    "\n",
    "      Args:\n",
    "          inverted_index: the inverted index data structure.\n",
    "          words: a list of words or phrases to search for.\n",
    "\n",
    "      Returns: an array of tuples, where the first value is the doc_id, and the second is the score\n",
    "    \"\"\"\n",
    "    # f_i = frequency of term in document\n",
    "    # qf_i = frequency of term in query\n",
    "    # r_i = number of relevant? documents containing the term (this is 0 bc no relevant documents) ***\n",
    "    # n_i = number of documents containg term i\n",
    "    # N = total number of documents in the collection\n",
    "    # R = number of relevant documents (this is 0 bc no relevant documents) ***\n",
    "    # K = k1((1-b) + b*(dl/avdl))\n",
    "    # -> b is paramter\n",
    "    # -> dl is length of document\n",
    "    # -> avdl is avverage length of document in entire collection\n",
    "    results = []\n",
    "    k1 = 1.8\n",
    "    k2 = 5.0\n",
    "    b = 0.75\n",
    "    R, r_i = 0, 0\n",
    "    phrase_lst = [phrase for phrase in words.split(\"\\t\") if phrase]\n",
    "    doc_id_lst = get_all_doc_ids(inverted_index)\n",
    "    N = len(doc_id_lst)\n",
    "    avdl = get_avdl(inverted_index, N)\n",
    "    for doc_id in doc_id_lst:\n",
    "        bm25 = 0\n",
    "        if any(True for phrase in phrase_lst if tf(inverted_index, doc_id, phrase) > 0):           \n",
    "            for phrase in phrase_lst:\n",
    "                f_i = tf(inverted_index, doc_id, phrase) # can handles phrases\n",
    "                qf_i = phrase_lst.count(phrase)  \n",
    "                n_i = df(inverted_index, phrase) # can handle phrases\n",
    "                dl = get_num_words_by_doc(inverted_index, doc_id)\n",
    "                K = k1*((1-b) + b*(dl/avdl))\n",
    "                idf = math.log(( (r_i+0.5)/(R-r_i+0.5) )/( (n_i-r_i+0.5)/(N-n_i-R+r_i+0.5) ))\n",
    "                ot = ( ((k1+1)*f_i)/(K+f_i) ) * ( ((k2+1)*qf_i)/(k2+qf_i) )\n",
    "                bm25 += idf*ot\n",
    "            results.append((get_story_id(inverted_index, doc_id), bm25))\n",
    "\n",
    "    return results\n",
    "t = bm25(inverted_index, \"united\\tstates\")\n",
    "print(len(t))\n",
    "# for i, r in enumerate(sorted(t, key=lambda x: x[1], reverse=True)):\n",
    "#     print(i, r)"
   ]
  },
  {
   "cell_type": "markdown",
   "metadata": {
    "id": "J6prrF_LGGLP"
   },
   "source": [
    "## 3. Implement `run_queries()`\n",
    "\n",
    "This is the only method that you will be graded on, which should create your inverted index based on the `document_fpath`, parse and evaluate all queries in `query_fpath` (name of queries file like *P3_eval.tsv*), and print out the results to a file named by `trecrun_file` (for example, *output.trecrun*)."
   ]
  },
  {
   "cell_type": "code",
   "execution_count": null,
   "metadata": {
    "collapsed": true,
    "id": "ldaX0-z3HvMC"
   },
   "outputs": [],
   "source": [
    "def run_queries(document_fpath, query_fpath, trecrun_file):\n",
    "    \"\"\"\n",
    "      Create an inverted index, parse a query file, run them on the inverted index,\n",
    "      and print out the results in trecrun format.\n",
    "\n",
    "      Args:\n",
    "          document_fpath: the name of a file containing the documents to index\n",
    "          query_fpath: the name of the file containing queries to run\n",
    "          trecrun_file: the name of the file that will be created to contain the\n",
    "                        output of running the queries\n",
    "\n",
    "      Returns: void\n",
    "    \"\"\"\n",
    "    d_path = \"./data/\"\n",
    "    inv_idx = build_inverted_index(d_path + document_fpath) # local inverted index\n",
    "    retrieval_methods = [\"ql\", \"bm25\", \"and\", \"or\", \"tf\", \"df\"]\n",
    "    username = \"hvtran\"\n",
    "    with open(trecrun_file, \"w\") as output_file:\n",
    "        with open(d_path + query_fpath, \"r\") as query_file:\n",
    "            lines = query_file.readlines()\n",
    "            for line in lines:\n",
    "                r = None\n",
    "                filtered_lines = line.split(\"\\t\", 2)\n",
    "                query_to_run = filtered_lines[0]\n",
    "                query_name = filtered_lines[1]\n",
    "                query_terms = filtered_lines[2].rstrip(\"\\n\")\n",
    "\n",
    "                if query_to_run in retrieval_methods:\n",
    "                    if query_to_run == \"ql\":\n",
    "                        r = query_likelihood(inv_idx, query_terms)\n",
    "                        r = (sorted(r, key=lambda tup: (-tup[1], tup[0])))\n",
    "                    elif query_to_run == \"bm25\":\n",
    "                        r = bm25(inv_idx, query_terms)\n",
    "                        r = (sorted(r, key=lambda tup: (-tup[1], tup[0])))\n",
    "                    elif query_to_run == \"and\":\n",
    "                        r = intersect(inv_idx, query_terms)\n",
    "                        r = sorted(r, key=lambda tup: (tup[0]))\n",
    "                    elif query_to_run == \"or\":\n",
    "                        r = union(inv_idx, query_terms)\n",
    "                        r = sorted(r, key=lambda tup: (tup[0]))\n",
    "\n",
    "                    elif query_to_run == \"tf\":\n",
    "                        r = []\n",
    "                        query_lst = [t for t in query_terms.split(\"\\t\") if t]\n",
    "                        for phrase in query_lst:\n",
    "                            filtered_postings = filter_postings(phrase)\n",
    "                            if filtered_postings is None:\n",
    "                                break # get out of this current iteration\n",
    "                                    # since query contains no documents that match phrase/term\n",
    "                            spl_phr = phrase.split()\n",
    "                            for doc_id in filtered_postings[spl_phr[0]].keys(): # give docs w occurrnces\n",
    "                                if check_adj(filtered_postings, spl_phr, doc_id):\n",
    "                                    t = tf(inv_idx, doc_id, phrase) # tf checks adjaceny\n",
    "                                    if t > 0: r.append((get_story_id(inv_idx, doc_id), t))\n",
    "\n",
    "                        r = (sorted(r, key=lambda tup: (-tup[1], tup[0])))\n",
    "                    elif query_to_run == \"df\":\n",
    "                        r = []\n",
    "                        spl_phr = [t for t in query_terms.split(\"\\t\") if t]\n",
    "                        for p in spl_phr:\n",
    "                            d = df(inv_idx, p)\n",
    "                            if d > 0:\n",
    "                                r.append((p.replace(\" \",\"_\"), d))\n",
    "                        # r = sorted(r, key=lambda tup: (tup[0]))\n",
    "                    # done with current query, write it to output file\n",
    "                    for i, l in enumerate(r, start=1):\n",
    "                        output_file.write(f\"{query_name:<13} {'skip':<5} {l[0]:<20} {i:<6} {l[1]:<10.4f} {username:<10}\\n\")\n",
    "\n",
    "    return\n",
    "\n",
    "run_queries(\"sciam.json.gz\", \"P3train.tsv\", \"output.trecrun\")\n",
    "\n",
    "# their_result = []\n",
    "# my_result = []\n",
    "# with open(\"./data/P3train.trecrun\", \"r\") as t:\n",
    "#     for p in t.readlines():\n",
    "#         l = p.split()\n",
    "#         their_result.append((l[0], l[2], l[4]))\n",
    "        \n",
    "# with open(\"output.trecrun\", \"r\") as t:\n",
    "#     for p in t.readlines():\n",
    "#         l = p.split()\n",
    "#         my_result.append((l[0], l[2], l[4]))\n",
    "# p\n",
    "# for their, mine in zip(their_result, my_result):\n",
    "\n",
    "#     if their[0] == \"pq-us-bm25\":\n",
    "#         print(f\"{mine[1]:<20} {mine[2]:<20}\")\n",
    "# Example usage (generates output.trecrun to compare to P3train.trecrun)"
   ]
  },
  {
   "cell_type": "markdown",
   "metadata": {
    "id": "Vg17qtuS8_l7"
   },
   "source": [
    "### 3.1 Sample queries and answers\n",
    "\n",
    "We are providing *P3train.tsv* that you can use to try out your system. We are also providing you with the expected output for those queries as *P3train.trecrun*. Your code will be tested on those same queries plus a number of other queries, so please try other possibilities: do not assume that because your code handles the training queries your code is perfect. You may use the below method, *print_file()*, to print out *P3train.trecrun* to compare your results manually. You might want to create a variation that also reads in your output and does a comparison to find where things are different. However, this part will not be graded, and is optional to implement. As always, just make sure that it does not trigger an error in the notebook."
   ]
  },
  {
   "cell_type": "code",
   "execution_count": 44,
   "metadata": {
    "collapsed": true,
    "id": "XrgAN9L1PM4_"
   },
   "outputs": [],
   "source": [
    "def print_file(file_path):\n",
    "    \"\"\"\n",
    "      Print out the contents of a file\n",
    "\n",
    "      Args:\n",
    "          file_path: the path to the file\n",
    "\n",
    "      Returns: n/a\n",
    "    \"\"\"\n",
    "\n",
    "    #########\n",
    "    ##\n",
    "    ## Implement the function here\n",
    "    ##\n",
    "    #########\n",
    "    pass\n",
    "\n",
    "# Example usage\n",
    "print_file(\"P3train.trecrun\")"
   ]
  },
  {
   "cell_type": "code",
   "execution_count": 45,
   "metadata": {
    "id": "EujWLMszLBmd"
   },
   "outputs": [],
   "source": [
    "def print_queryfile(file_path):\n",
    "    \"\"\"\n",
    "      Print out the contents of a file\n",
    "\n",
    "      Args:\n",
    "          file_path: the path to the file\n",
    "\n",
    "      Returns: n/a\n",
    "    \"\"\"\n",
    "    #########\n",
    "    ##\n",
    "    ## Implement the function here\n",
    "    ##\n",
    "    #########\n",
    "    pass\n",
    "# Example usage\n",
    "print_queryfile(\"P3train.tsv\")"
   ]
  },
  {
   "cell_type": "markdown",
   "metadata": {
    "id": "2i8QsRrUdUop"
   },
   "source": [
    "## 4. Analysis Questions\n",
    "\n",
    "Answer the questions below. You will probably find it easiest to answer some of them if you engineer one of your functions above to display these numbers after indexing and then you can copy them below.\n",
    "\n",
    "Unlike the way P1 and P2 were implemented, these analysis questions are designed to be handled by the autograder, though they will be hidden \"tests\" so you will not have confirmation that you got them right until after grading is completed. If the answer is a float, then reduce to 2 decimal places."
   ]
  },
  {
   "cell_type": "markdown",
   "metadata": {
    "id": "TX7JayJmdYdr"
   },
   "source": [
    "**4.1**. What is the average length of a story in the *sciam* collection? What is the shortest story (and how short it is)? What is the longest story (and how long is it)? Note that for this project, \"short\" and \"long\" are measured by the number of tokens, not the number of characters."
   ]
  },
  {
   "cell_type": "code",
   "execution_count": 46,
   "metadata": {
    "colab": {
     "base_uri": "https://localhost:8080/",
     "height": 106
    },
    "executionInfo": {
     "elapsed": 234,
     "status": "error",
     "timestamp": 1733687967283,
     "user": {
      "displayName": "Huy Tran",
      "userId": "16988764098922800274"
     },
     "user_tz": 300
    },
    "id": "qTwBJjsbf_Ri",
    "outputId": "0324a338-b686-4a0f-be08-b23b5c8de278"
   },
   "outputs": [
    {
     "name": "stdout",
     "output_type": "stream",
     "text": [
      "[1215.16, '19406-art53', 4, '8951-id_6', 26139]\n"
     ]
    }
   ],
   "source": [
    "# Provide the correct values for each of these \"variables\" as described above. Do not provide any other code.\n",
    "\n",
    "def analysis_q1():\n",
    "    inv_idx = build_inverted_index(\"./data/sciam.json.gz\")\n",
    "    N = len(get_all_doc_ids(inv_idx))\n",
    "    avdl, dl_dict = get_avdl(inv_idx, N, get_smallest=True, get_largest=True)\n",
    "    averageStoryLength = float(f\"{avdl:.2f}\")\n",
    "\n",
    "    current_largest = float(\"-inf\")\n",
    "    current_smallest = float(\"inf\")\n",
    "    for doc_id, length in dl_dict.items():\n",
    "        if length < current_smallest:\n",
    "            current_smallest = length\n",
    "            shortestStoryLength = length\n",
    "            shortestStoryStoryId = get_story_id(inv_idx, doc_id)\n",
    "\n",
    "        if length > current_largest:\n",
    "            current_largest = length\n",
    "            longestStoryLength = length\n",
    "            longestStoryStoryId = get_story_id(inv_idx, doc_id)\n",
    "\n",
    "    return [averageStoryLength, shortestStoryStoryId, shortestStoryLength, longestStoryStoryId, longestStoryLength]\n",
    "\n",
    "t = analysis_q1()\n",
    "print(t)"
   ]
  },
  {
   "cell_type": "markdown",
   "metadata": {
    "id": "l5ShTxDede52"
   },
   "source": [
    "**4.2**. What word occurs in the most stories and how many stories does it occur in? What word has the largest number of occurrences and how many does it have?\n"
   ]
  },
  {
   "cell_type": "code",
   "execution_count": 47,
   "metadata": {
    "colab": {
     "base_uri": "https://localhost:8080/",
     "height": 106
    },
    "executionInfo": {
     "elapsed": 5,
     "status": "error",
     "timestamp": 1733687967284,
     "user": {
      "displayName": "Huy Tran",
      "userId": "16988764098922800274"
     },
     "user_tz": 300
    },
    "id": "z4ejE0afgtJZ",
    "outputId": "e03c9394-2283-45d9-d550-0b0e2bbef72a"
   },
   "outputs": [
    {
     "name": "stdout",
     "output_type": "stream",
     "text": [
      "['the', 966, 'the', 96151]\n"
     ]
    }
   ],
   "source": [
    "# Provide the correct values for each of these \"variables\" as described above. Do not provide any other code.\n",
    "\n",
    "def analysis_q2():\n",
    "    inv_idx = build_inverted_index(\"./data/sciam.json.gz\")\n",
    "    cur_term_in_stories = float(\"-inf\")\n",
    "    cur_largest_occurence = float(\"-inf\")\n",
    "\n",
    "    for word, posting in inv_idx.items():\n",
    "        if posting.total_term_count > cur_largest_occurence:\n",
    "            cur_largest_occurence = posting.total_term_count\n",
    "            termOccurringMostFrequently = word\n",
    "            numberOfTimesItOccurs = cur_largest_occurence\n",
    "        \n",
    "        if posting.get_document_occurence() > cur_term_in_stories:\n",
    "            cur_term_in_stories = posting.get_document_occurence()\n",
    "            termOccurringInMostStories = word\n",
    "            numberOfStoriesItOccursIn = cur_term_in_stories\n",
    "\n",
    "    return [termOccurringInMostStories, numberOfStoriesItOccursIn, termOccurringMostFrequently, numberOfTimesItOccurs]\n",
    "t = analysis_q2()\n",
    "print(t)\n"
   ]
  },
  {
   "cell_type": "markdown",
   "metadata": {
    "id": "rzeT9jwfdhHI"
   },
   "source": [
    "**4.3.** How many unique words are there in this collection? How many of them occur only once? What percent is that? Is that what you would expect? We are not asking you to return this, but to increase the chance that you have the right answer, you might think about why or why not?\n"
   ]
  },
  {
   "cell_type": "code",
   "execution_count": 48,
   "metadata": {
    "executionInfo": {
     "elapsed": 4,
     "status": "aborted",
     "timestamp": 1733687967284,
     "user": {
      "displayName": "Huy Tran",
      "userId": "16988764098922800274"
     },
     "user_tz": 300
    },
    "id": "eWuHE51Eg6lF"
   },
   "outputs": [
    {
     "name": "stdout",
     "output_type": "stream",
     "text": [
      "[27217, 10056, 36.95]\n"
     ]
    }
   ],
   "source": [
    "# Provide the correct values for each of these \"variables\" as described above. Do not provide any other code.\n",
    "\n",
    "def analysis_q3():\n",
    "    inv_idx = build_inverted_index(\"./data/sciam.json.gz\")\n",
    "\n",
    "    numberUniqueWords = len(inv_idx)\n",
    "    i = 0\n",
    "    for posting in inv_idx.values():\n",
    "        if posting.total_term_count == 1:\n",
    "            i += 1\n",
    "    numberWordsOccurringOnce = i\n",
    "    percentOfWordsThatOccurOnce = float(f\"{((i / numberUniqueWords) * 100):.2f}\")\n",
    "\n",
    "    return [numberUniqueWords, numberWordsOccurringOnce, percentOfWordsThatOccurOnce]\n",
    "t = analysis_q3()\n",
    "print(t)"
   ]
  },
  {
   "cell_type": "markdown",
   "metadata": {
    "id": "javDin3edkVO"
   },
   "source": [
    "**4.4**. Your training queries have two queries that are roughly about the scientific american supplement. Suppose that you wanted to judge stories for relevance using a pooling strategy that takes the top 100 documents from each of those two queries. How many unique documents will you be judging? What if you only considered the top 20? Suppose you had a budget that allowed you to judge at most 30 documents. How deeply could you go into the two queries for judging to get 30 judged, no more, no less?\n"
   ]
  },
  {
   "cell_type": "code",
   "execution_count": 49,
   "metadata": {
    "colab": {
     "base_uri": "https://localhost:8080/",
     "height": 106
    },
    "executionInfo": {
     "elapsed": 4,
     "status": "error",
     "timestamp": 1733687967284,
     "user": {
      "displayName": "Huy Tran",
      "userId": "16988764098922800274"
     },
     "user_tz": 300
    },
    "id": "MZ-UINLgQEhg",
    "outputId": "e31cdd05-75ca-49f7-8d35-29d984a780dc"
   },
   "outputs": [
    {
     "data": {
      "text/plain": [
       "[100, 30, 20]"
      ]
     },
     "execution_count": 49,
     "metadata": {},
     "output_type": "execute_result"
    }
   ],
   "source": [
    "# Provide the correct values for each of these \"variables\" as described above. Do not provide any other code.\n",
    "\n",
    "def analysis_q4():\n",
    "    inv_idx = build_inverted_index(\"./data/sciam.json.gz\")\n",
    "    q1 = \"scientific\tamerica\tsupplement\" # perform bm25\n",
    "    q2 = \"scientific america supplement\" # perform union\n",
    "\n",
    "    r1 = bm25(inv_idx, q1)\n",
    "    r1 = sorted(r1, key=lambda tup: (-tup[1], tup[0]))\n",
    "    r1_doc = [tup[0] for tup in r1]\n",
    "\n",
    "    r2 = union(inv_idx, q2)\n",
    "    r2 = sorted(r2, key=lambda tup: (-tup[1], tup[0]))\n",
    "    r2_doc = [tup[0] for tup in r2]\n",
    "\n",
    "    depth = 0\n",
    "    judged = set() # keeps track of uniqe documents to judge\n",
    "    while len(judged) < 30:           # depth max is 30\n",
    "        depth += 1                    # increase by 1\n",
    "        judged.update(r1_doc[:depth]) # adds this depth documents up to this depth for r1\n",
    "        judged.update(r2_doc[:depth]) # adds this depth documents up to this depth for r2\n",
    "\n",
    "    numberUniqueJudged100 = len(set(r1_doc[:100]).union(set(r2_doc[:100])))\n",
    "    numberUniqueJudged20 = len(set(r1_doc[:20]).union(set(r2_doc[:20])))\n",
    "    poolDepthFor30 = depth\n",
    "\n",
    "    return [numberUniqueJudged100, numberUniqueJudged20, poolDepthFor30]\n",
    "analysis_q4()\n"
   ]
  }
 ],
 "metadata": {
  "colab": {
   "collapsed_sections": [
    "2i8QsRrUdUop"
   ],
   "provenance": [
    {
     "file_id": "1R6zVQQrRXocEl34pf6RIGC_fKTtyWcN8",
     "timestamp": 1733687296905
    },
    {
     "file_id": "1lcHOxkKqqwEvqW0Aaj3GfHdvAjqVkmFu",
     "timestamp": 1732342610684
    },
    {
     "file_id": "1D2Q5vw_CPRBP8T-rBzulnRmzNMSpIr6m",
     "timestamp": 1732035932732
    },
    {
     "file_id": "14KZeo6W3-YPtuVCLe5qZVmmz3pY8bQeW",
     "timestamp": 1730955104744
    },
    {
     "file_id": "1PNLu5Ozbws477bBDEbW9ctbWjtDBFyeb",
     "timestamp": 1727172972777
    },
    {
     "file_id": "1V8FI-GcatOgRkuGy51OFy3zF1U4wti5r",
     "timestamp": 1727167265392
    }
   ]
  },
  "kernelspec": {
   "display_name": "Python 3",
   "name": "python3"
  },
  "language_info": {
   "codemirror_mode": {
    "name": "ipython",
    "version": 3
   },
   "file_extension": ".py",
   "mimetype": "text/x-python",
   "name": "python",
   "nbconvert_exporter": "python",
   "pygments_lexer": "ipython3",
   "version": "3.10.2"
  }
 },
 "nbformat": 4,
 "nbformat_minor": 0
}
